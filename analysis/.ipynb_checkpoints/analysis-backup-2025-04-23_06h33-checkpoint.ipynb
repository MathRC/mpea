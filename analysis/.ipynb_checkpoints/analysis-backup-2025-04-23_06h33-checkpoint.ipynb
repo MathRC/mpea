{
 "cells": [
  {
   "cell_type": "markdown",
   "id": "fcbab6f7-1f20-4c84-87c8-4beb228ef1b3",
   "metadata": {},
   "source": [
    "## Introduction\n",
    "\n",
    "Multi-Principal Element Alloys (MPEAs) represent a promising class of materials designed with multiple principal elements, resulting in unique combinations of mechanical and physical properties. Their potential for advanced engineering applications, particularly in fields such as aerospace and automotive industries, has driven increasing interest in systematic, data-driven exploration.\n",
    "\n",
    "This project focuses on identifying alloys with **exceptional yield strength**. Rather than discarding statistical outliers, the dataset offers the opportunity to recognize them as indicators of alloys with genuinely outstanding mechanical performance.\n",
    "\n",
    "Through a combination of **exploratory data analysis** and **machine learning techniques**, the project aims to:\n",
    "- Identify alloys exhibiting exceptional yield strength.\n",
    "- Analyze key factors associated with superior mechanical performance.\n",
    "- Suggest engineering applications for high-strength alloys.\n",
    "\n",
    "The goal is to extract meaningful insights from a complex materials dataset, demonstrating the role of data science in advancing materials discovery and engineering innovation.\n",
    "\n",
    "---"
   ]
  },
  {
   "cell_type": "markdown",
   "id": "c4dff452-99fe-4e12-ac7d-1aff56cf2430",
   "metadata": {},
   "source": [
    "## 1. Data Preparation\n",
    "\n",
    "### 1.1 Dataset Overview\n",
    "\n",
    "The dataset used in this project comes from the study *\"Expanded dataset of mechanical properties and observed phases of multi-principal element alloys,\"* published by Borg et al. (2020) in *Scientific Data*, with the associated dataset hosted on GitHub by Borg and Saal (2020). It compiles mechanical properties for a wide variety of multi-principal element alloys (MPEAs), gathered from peer-reviewed literature and curated for materials science research and machine learning applications.\n",
    "\n",
    "Each record represents a composition-property combination, including details about mechanical performance, physical characteristics, processing methods, and microstructural features.\n",
    "\n",
    "Data validation was performed by the original study authors, who applied domain expertise and statistical reviews to detect, correct, or remove extreme values, ensuring that the final dataset contains only verified experimental measurements. This careful validation makes the dataset particularly valuable, as outliers reflect genuinely extraordinary materials rather than errors, opening opportunities for deeper exploration.\n",
    "\n",
    "The dataset includes the following information, when available:\n",
    "\n",
    "- **Mechanical properties**:\n",
    "  - Yield strength (MPa)\n",
    "  - Experimental Young’s modulus (GPa)\n",
    "  - Elongation at fracture (%)\n",
    "  - Hardness (Vickers)\n",
    "- **Physical properties**:\n",
    "  - Density (experimental and calculated)\n",
    "  - Grain size (μm)\n",
    "- **Processing information**:\n",
    "  - Processing method (e.g., casting, forging, annealing)\n",
    "  - Microstructure type (e.g., FCC, BCC, multiphase structures)\n",
    "- **Composition and metadata**:\n",
    "  - Chemical composition\n",
    "  - Source references"
   ]
  },
  {
   "cell_type": "markdown",
   "id": "4fcd29ad-fd04-4884-aa47-9e8e42130bf5",
   "metadata": {},
   "source": [
    "### 1.2. Data Loading and Basic Exploration"
   ]
  },
  {
   "cell_type": "markdown",
   "id": "22c8357c-3941-4ca0-b551-6e3f33c0f3de",
   "metadata": {},
   "source": [
    "Let’s start by importing the necessary libraries and loading the dataset into a DataFrame."
   ]
  },
  {
   "cell_type": "code",
   "execution_count": 1228,
   "id": "d9481a4f-5786-474f-8643-d93dfcfc1e77",
   "metadata": {},
   "outputs": [],
   "source": [
    "# System and File Utilities\n",
    "import os\n",
    "os.makedirs(\"../analysis/figures\", exist_ok=True)\n",
    "os.makedirs(\"../assets\", exist_ok=True)\n",
    "\n",
    "# Data Handling\n",
    "import pandas as pd\n",
    "import numpy as np\n",
    "\n",
    "# Visualization\n",
    "import matplotlib.pyplot as plt\n",
    "import seaborn as sns\n",
    "import missingno as msno"
   ]
  },
  {
   "cell_type": "code",
   "execution_count": 1229,
   "id": "bd25b99b-4569-4fe8-aca4-e55f0caddf8a",
   "metadata": {},
   "outputs": [
    {
     "data": {
      "text/html": [
       "<div>\n",
       "<style scoped>\n",
       "    .dataframe tbody tr th:only-of-type {\n",
       "        vertical-align: middle;\n",
       "    }\n",
       "\n",
       "    .dataframe tbody tr th {\n",
       "        vertical-align: top;\n",
       "    }\n",
       "\n",
       "    .dataframe thead th {\n",
       "        text-align: right;\n",
       "    }\n",
       "</style>\n",
       "<table border=\"1\" class=\"dataframe\">\n",
       "  <thead>\n",
       "    <tr style=\"text-align: right;\">\n",
       "      <th></th>\n",
       "      <th>IDENTIFIER: Reference ID</th>\n",
       "      <th>FORMULA</th>\n",
       "      <th>PROPERTY: Microstructure</th>\n",
       "      <th>PROPERTY: Processing method</th>\n",
       "      <th>PROPERTY: BCC/FCC/other</th>\n",
       "      <th>PROPERTY: grain size ($\\mu$m)</th>\n",
       "      <th>PROPERTY: Exp. Density (g/cm$^3$)</th>\n",
       "      <th>PROPERTY: Calculated Density (g/cm$^3$)</th>\n",
       "      <th>PROPERTY: HV</th>\n",
       "      <th>PROPERTY: Type of test</th>\n",
       "      <th>...</th>\n",
       "      <th>PROPERTY: Elongation (%)</th>\n",
       "      <th>PROPERTY: Elongation plastic (%)</th>\n",
       "      <th>PROPERTY: Exp. Young modulus (GPa)</th>\n",
       "      <th>PROPERTY: Calculated Young modulus (GPa)</th>\n",
       "      <th>PROPERTY: O content (wppm)</th>\n",
       "      <th>PROPERTY: N content (wppm)</th>\n",
       "      <th>PROPERTY: C content (wppm)</th>\n",
       "      <th>REFERENCE: doi</th>\n",
       "      <th>REFERENCE: year</th>\n",
       "      <th>REFERENCE: title</th>\n",
       "    </tr>\n",
       "  </thead>\n",
       "  <tbody>\n",
       "    <tr>\n",
       "      <th>0</th>\n",
       "      <td>27</td>\n",
       "      <td>Al0.25 Co1 Fe1 Ni1</td>\n",
       "      <td>FCC</td>\n",
       "      <td>CAST</td>\n",
       "      <td>FCC</td>\n",
       "      <td>NaN</td>\n",
       "      <td>NaN</td>\n",
       "      <td>7.9</td>\n",
       "      <td>138.0</td>\n",
       "      <td>C</td>\n",
       "      <td>...</td>\n",
       "      <td>NaN</td>\n",
       "      <td>NaN</td>\n",
       "      <td>NaN</td>\n",
       "      <td>192.0</td>\n",
       "      <td>NaN</td>\n",
       "      <td>NaN</td>\n",
       "      <td>NaN</td>\n",
       "      <td>10.1016/j.jmmm.2014.07.023</td>\n",
       "      <td>2014</td>\n",
       "      <td>Effects of Al and Si addition on the structure...</td>\n",
       "    </tr>\n",
       "    <tr>\n",
       "      <th>1</th>\n",
       "      <td>27</td>\n",
       "      <td>Al0.5 Co1 Fe1 Ni1</td>\n",
       "      <td>FCC+BCC</td>\n",
       "      <td>CAST</td>\n",
       "      <td>other</td>\n",
       "      <td>NaN</td>\n",
       "      <td>NaN</td>\n",
       "      <td>7.4</td>\n",
       "      <td>212.0</td>\n",
       "      <td>C</td>\n",
       "      <td>...</td>\n",
       "      <td>NaN</td>\n",
       "      <td>NaN</td>\n",
       "      <td>NaN</td>\n",
       "      <td>NaN</td>\n",
       "      <td>NaN</td>\n",
       "      <td>NaN</td>\n",
       "      <td>NaN</td>\n",
       "      <td>10.1016/j.jmmm.2014.07.023</td>\n",
       "      <td>2014</td>\n",
       "      <td>Effects of Al and Si addition on the structure...</td>\n",
       "    </tr>\n",
       "    <tr>\n",
       "      <th>2</th>\n",
       "      <td>27</td>\n",
       "      <td>Al0.75 Co1 Fe1 Ni1</td>\n",
       "      <td>FCC+BCC</td>\n",
       "      <td>CAST</td>\n",
       "      <td>other</td>\n",
       "      <td>NaN</td>\n",
       "      <td>NaN</td>\n",
       "      <td>7.0</td>\n",
       "      <td>385.0</td>\n",
       "      <td>C</td>\n",
       "      <td>...</td>\n",
       "      <td>NaN</td>\n",
       "      <td>NaN</td>\n",
       "      <td>NaN</td>\n",
       "      <td>NaN</td>\n",
       "      <td>NaN</td>\n",
       "      <td>NaN</td>\n",
       "      <td>NaN</td>\n",
       "      <td>10.1016/j.jmmm.2014.07.023</td>\n",
       "      <td>2014</td>\n",
       "      <td>Effects of Al and Si addition on the structure...</td>\n",
       "    </tr>\n",
       "  </tbody>\n",
       "</table>\n",
       "<p>3 rows × 23 columns</p>\n",
       "</div>"
      ],
      "text/plain": [
       "   IDENTIFIER: Reference ID             FORMULA PROPERTY: Microstructure  \\\n",
       "0                        27  Al0.25 Co1 Fe1 Ni1                      FCC   \n",
       "1                        27   Al0.5 Co1 Fe1 Ni1                  FCC+BCC   \n",
       "2                        27  Al0.75 Co1 Fe1 Ni1                  FCC+BCC   \n",
       "\n",
       "  PROPERTY: Processing method PROPERTY: BCC/FCC/other  \\\n",
       "0                        CAST                     FCC   \n",
       "1                        CAST                   other   \n",
       "2                        CAST                   other   \n",
       "\n",
       "   PROPERTY: grain size ($\\mu$m)  PROPERTY: Exp. Density (g/cm$^3$)  \\\n",
       "0                            NaN                                NaN   \n",
       "1                            NaN                                NaN   \n",
       "2                            NaN                                NaN   \n",
       "\n",
       "   PROPERTY: Calculated Density (g/cm$^3$)  PROPERTY: HV  \\\n",
       "0                                      7.9         138.0   \n",
       "1                                      7.4         212.0   \n",
       "2                                      7.0         385.0   \n",
       "\n",
       "  PROPERTY: Type of test  ...  PROPERTY: Elongation (%)  \\\n",
       "0                      C  ...                       NaN   \n",
       "1                      C  ...                       NaN   \n",
       "2                      C  ...                       NaN   \n",
       "\n",
       "   PROPERTY: Elongation plastic (%)  PROPERTY: Exp. Young modulus (GPa)  \\\n",
       "0                               NaN                                 NaN   \n",
       "1                               NaN                                 NaN   \n",
       "2                               NaN                                 NaN   \n",
       "\n",
       "   PROPERTY: Calculated Young modulus (GPa)  PROPERTY: O content (wppm)  \\\n",
       "0                                     192.0                         NaN   \n",
       "1                                       NaN                         NaN   \n",
       "2                                       NaN                         NaN   \n",
       "\n",
       "   PROPERTY: N content (wppm)  PROPERTY: C content (wppm)  \\\n",
       "0                         NaN                         NaN   \n",
       "1                         NaN                         NaN   \n",
       "2                         NaN                         NaN   \n",
       "\n",
       "               REFERENCE: doi  REFERENCE: year  \\\n",
       "0  10.1016/j.jmmm.2014.07.023             2014   \n",
       "1  10.1016/j.jmmm.2014.07.023             2014   \n",
       "2  10.1016/j.jmmm.2014.07.023             2014   \n",
       "\n",
       "                                    REFERENCE: title  \n",
       "0  Effects of Al and Si addition on the structure...  \n",
       "1  Effects of Al and Si addition on the structure...  \n",
       "2  Effects of Al and Si addition on the structure...  \n",
       "\n",
       "[3 rows x 23 columns]"
      ]
     },
     "execution_count": 1229,
     "metadata": {},
     "output_type": "execute_result"
    }
   ],
   "source": [
    "# Load the dataset\n",
    "mpea_raw = pd.read_csv(\"../data/raw/MPEA_dataset.csv\")\n",
    "\n",
    "# Display first rows\n",
    "mpea_raw.head(3)"
   ]
  },
  {
   "cell_type": "markdown",
   "id": "da5a5063-b27a-4224-ac16-13a60f1c2e33",
   "metadata": {},
   "source": [
    "Now that the dataset is loaded, I'll **explore its structure** by previewing the columns, checking value distributions, and reviewing basic statistics to better understand the available information."
   ]
  },
  {
   "cell_type": "code",
   "execution_count": 1231,
   "id": "4dd6e022-eea6-4a73-a5a4-d140a28b9b08",
   "metadata": {},
   "outputs": [
    {
     "name": "stdout",
     "output_type": "stream",
     "text": [
      "(1545, 23)\n"
     ]
    }
   ],
   "source": [
    "print(mpea_raw.shape)"
   ]
  },
  {
   "cell_type": "code",
   "execution_count": 1232,
   "id": "8b7f35f6-cdef-4fee-a331-e32ecfb130d7",
   "metadata": {},
   "outputs": [
    {
     "name": "stdout",
     "output_type": "stream",
     "text": [
      "<class 'pandas.core.frame.DataFrame'>\n",
      "RangeIndex: 1545 entries, 0 to 1544\n",
      "Data columns (total 23 columns):\n",
      " #   Column                                    Non-Null Count  Dtype  \n",
      "---  ------                                    --------------  -----  \n",
      " 0   IDENTIFIER: Reference ID                  1545 non-null   int64  \n",
      " 1   FORMULA                                   1545 non-null   object \n",
      " 2   PROPERTY: Microstructure                  1402 non-null   object \n",
      " 3   PROPERTY: Processing method               1426 non-null   object \n",
      " 4   PROPERTY: BCC/FCC/other                   1545 non-null   object \n",
      " 5   PROPERTY: grain size ($\\mu$m)             237 non-null    float64\n",
      " 6   PROPERTY: Exp. Density (g/cm$^3$)         112 non-null    float64\n",
      " 7   PROPERTY: Calculated Density (g/cm$^3$)   1545 non-null   float64\n",
      " 8   PROPERTY: HV                              530 non-null    float64\n",
      " 9   PROPERTY: Type of test                    1150 non-null   object \n",
      " 10  PROPERTY: Test temperature ($^\\circ$C)    1364 non-null   float64\n",
      " 11  PROPERTY: YS (MPa)                        1067 non-null   float64\n",
      " 12  PROPERTY: UTS (MPa)                       539 non-null    float64\n",
      " 13  PROPERTY: Elongation (%)                  619 non-null    float64\n",
      " 14  PROPERTY: Elongation plastic (%)          149 non-null    float64\n",
      " 15  PROPERTY: Exp. Young modulus (GPa)        145 non-null    float64\n",
      " 16  PROPERTY: Calculated Young modulus (GPa)  729 non-null    float64\n",
      " 17  PROPERTY: O content (wppm)                57 non-null     float64\n",
      " 18  PROPERTY: N content (wppm)                45 non-null     float64\n",
      " 19  PROPERTY: C content (wppm)                4 non-null      float64\n",
      " 20  REFERENCE: doi                            1545 non-null   object \n",
      " 21  REFERENCE: year                           1545 non-null   int64  \n",
      " 22  REFERENCE: title                          1535 non-null   object \n",
      "dtypes: float64(14), int64(2), object(7)\n",
      "memory usage: 277.7+ KB\n",
      "None\n"
     ]
    }
   ],
   "source": [
    "print(mpea_raw.info())"
   ]
  },
  {
   "cell_type": "code",
   "execution_count": 1233,
   "id": "e945451b-c136-47d2-b414-79ec2fea9151",
   "metadata": {},
   "outputs": [
    {
     "name": "stdout",
     "output_type": "stream",
     "text": [
      "PROPERTY: Microstructure\n",
      "BCC             468\n",
      "FCC             267\n",
      "FCC+BCC         102\n",
      "BCC+Sec.         99\n",
      "FCC+Sec.         91\n",
      "BCC+Laves        69\n",
      "BCC+B2           47\n",
      "Other            31\n",
      "FCC+BCC+B2       22\n",
      "FCC+BCC+Sec.     20\n",
      "Name: count, dtype: int64\n"
     ]
    }
   ],
   "source": [
    "# Display the most common microstructures\n",
    "print(mpea_raw[\"PROPERTY: Microstructure\"].value_counts().head(10))"
   ]
  },
  {
   "cell_type": "code",
   "execution_count": 1234,
   "id": "f01ce79b-723d-4eab-8059-7753bc88a15f",
   "metadata": {},
   "outputs": [
    {
     "name": "stdout",
     "output_type": "stream",
     "text": [
      "PROPERTY: Processing method\n",
      "CAST       647\n",
      "WROUGHT    300\n",
      "ANNEAL     273\n",
      "OTHER      111\n",
      "POWDER      95\n",
      "Name: count, dtype: int64\n"
     ]
    }
   ],
   "source": [
    "# Frequency of processing methods\n",
    "print(mpea_raw[\"PROPERTY: Processing method\"].value_counts())"
   ]
  },
  {
   "cell_type": "code",
   "execution_count": 1235,
   "id": "198ba718-2b6a-4dc4-a05f-693b9936bebc",
   "metadata": {},
   "outputs": [
    {
     "name": "stdout",
     "output_type": "stream",
     "text": [
      "PROPERTY: BCC/FCC/other\n",
      "other    812\n",
      "BCC      468\n",
      "FCC      265\n",
      "Name: count, dtype: int64\n"
     ]
    }
   ],
   "source": [
    "# Frequency of BCC/FCC/other classifications\n",
    "print(mpea_raw[\"PROPERTY: BCC/FCC/other\"].value_counts())"
   ]
  },
  {
   "cell_type": "code",
   "execution_count": 1236,
   "id": "5b936d9b-80fb-48f4-ab86-a7b3f20770a1",
   "metadata": {},
   "outputs": [
    {
     "name": "stdout",
     "output_type": "stream",
     "text": [
      "PROPERTY: Type of test\n",
      "C    792\n",
      "T    358\n",
      "Name: count, dtype: int64\n"
     ]
    }
   ],
   "source": [
    "# Types of test (compression vs. tension)\n",
    "print(mpea_raw[\"PROPERTY: Type of test\"].value_counts())"
   ]
  },
  {
   "cell_type": "code",
   "execution_count": 1237,
   "id": "6f0c2da1-1c95-475e-8c25-33a7e48d3065",
   "metadata": {},
   "outputs": [
    {
     "data": {
      "image/png": "[encoded data removed]",
      "text/plain": [
       "<Figure size 640x480 with 1 Axes>"
      ]
     },
     "metadata": {},
     "output_type": "display_data"
    }
   ],
   "source": [
    "# Distribution of test temperatures\n",
    "plt.hist(mpea_raw[r\"PROPERTY: Test temperature ($^\\circ$C)\"].dropna(), bins=20, edgecolor='black')\n",
    "plt.xlabel(\"Test Temperature (°C)\")\n",
    "plt.ylabel(\"Frequency\")\n",
    "plt.title(\"Figure 1: Distribution of Test Temperatures\")\n",
    "plt.grid(True, alpha=0.3)\n",
    "\n",
    "# Save and show\n",
    "plt.tight_layout()\n",
    "plt.savefig('../analysis/figures/test_temperatures.png', \n",
    "            dpi=300, \n",
    "            bbox_inches='tight')\n",
    "plt.show()"
   ]
  },
  {
   "cell_type": "code",
   "execution_count": 1238,
   "id": "bf59a15a-2d23-4449-82a8-d87969d99019",
   "metadata": {},
   "outputs": [
    {
     "data": {
      "text/html": [
       "<div>\n",
       "<style scoped>\n",
       "    .dataframe tbody tr th:only-of-type {\n",
       "        vertical-align: middle;\n",
       "    }\n",
       "\n",
       "    .dataframe tbody tr th {\n",
       "        vertical-align: top;\n",
       "    }\n",
       "\n",
       "    .dataframe thead th {\n",
       "        text-align: right;\n",
       "    }\n",
       "</style>\n",
       "<table border=\"1\" class=\"dataframe\">\n",
       "  <thead>\n",
       "    <tr style=\"text-align: right;\">\n",
       "      <th></th>\n",
       "      <th>IDENTIFIER: Reference ID</th>\n",
       "      <th>PROPERTY: grain size ($\\mu$m)</th>\n",
       "      <th>PROPERTY: Exp. Density (g/cm$^3$)</th>\n",
       "      <th>PROPERTY: Calculated Density (g/cm$^3$)</th>\n",
       "      <th>PROPERTY: HV</th>\n",
       "      <th>PROPERTY: Test temperature ($^\\circ$C)</th>\n",
       "      <th>PROPERTY: YS (MPa)</th>\n",
       "      <th>PROPERTY: UTS (MPa)</th>\n",
       "      <th>PROPERTY: Elongation (%)</th>\n",
       "      <th>PROPERTY: Elongation plastic (%)</th>\n",
       "      <th>PROPERTY: Exp. Young modulus (GPa)</th>\n",
       "      <th>PROPERTY: Calculated Young modulus (GPa)</th>\n",
       "      <th>PROPERTY: O content (wppm)</th>\n",
       "      <th>PROPERTY: N content (wppm)</th>\n",
       "      <th>PROPERTY: C content (wppm)</th>\n",
       "      <th>REFERENCE: year</th>\n",
       "    </tr>\n",
       "  </thead>\n",
       "  <tbody>\n",
       "    <tr>\n",
       "      <th>count</th>\n",
       "      <td>1545.000000</td>\n",
       "      <td>237.000000</td>\n",
       "      <td>112.000000</td>\n",
       "      <td>1545.000000</td>\n",
       "      <td>530.000000</td>\n",
       "      <td>1364.000000</td>\n",
       "      <td>1067.000000</td>\n",
       "      <td>539.000000</td>\n",
       "      <td>619.000000</td>\n",
       "      <td>149.000000</td>\n",
       "      <td>145.000000</td>\n",
       "      <td>729.000000</td>\n",
       "      <td>57.000000</td>\n",
       "      <td>45.0</td>\n",
       "      <td>4.000000</td>\n",
       "      <td>1545.000000</td>\n",
       "    </tr>\n",
       "    <tr>\n",
       "      <th>mean</th>\n",
       "      <td>134.286084</td>\n",
       "      <td>90.222121</td>\n",
       "      <td>7.639518</td>\n",
       "      <td>7.962071</td>\n",
       "      <td>478.256792</td>\n",
       "      <td>227.960264</td>\n",
       "      <td>889.961471</td>\n",
       "      <td>1180.121243</td>\n",
       "      <td>30.216688</td>\n",
       "      <td>20.272349</td>\n",
       "      <td>124.972414</td>\n",
       "      <td>166.411523</td>\n",
       "      <td>764.000000</td>\n",
       "      <td>5.0</td>\n",
       "      <td>19911.750000</td>\n",
       "      <td>2016.209061</td>\n",
       "    </tr>\n",
       "    <tr>\n",
       "      <th>std</th>\n",
       "      <td>80.288645</td>\n",
       "      <td>182.997396</td>\n",
       "      <td>2.484075</td>\n",
       "      <td>1.760284</td>\n",
       "      <td>212.896712</td>\n",
       "      <td>379.131987</td>\n",
       "      <td>570.135437</td>\n",
       "      <td>720.870146</td>\n",
       "      <td>22.010637</td>\n",
       "      <td>25.725757</td>\n",
       "      <td>56.943524</td>\n",
       "      <td>48.864223</td>\n",
       "      <td>2084.998458</td>\n",
       "      <td>0.0</td>\n",
       "      <td>16142.818184</td>\n",
       "      <td>3.725479</td>\n",
       "    </tr>\n",
       "    <tr>\n",
       "      <th>min</th>\n",
       "      <td>1.000000</td>\n",
       "      <td>0.018200</td>\n",
       "      <td>1.460000</td>\n",
       "      <td>1.400000</td>\n",
       "      <td>94.700000</td>\n",
       "      <td>-268.800000</td>\n",
       "      <td>24.000000</td>\n",
       "      <td>80.000000</td>\n",
       "      <td>0.000000</td>\n",
       "      <td>0.000000</td>\n",
       "      <td>16.600000</td>\n",
       "      <td>72.000000</td>\n",
       "      <td>80.000000</td>\n",
       "      <td>5.0</td>\n",
       "      <td>1900.000000</td>\n",
       "      <td>2004.000000</td>\n",
       "    </tr>\n",
       "    <tr>\n",
       "      <th>25%</th>\n",
       "      <td>62.000000</td>\n",
       "      <td>3.000000</td>\n",
       "      <td>6.505000</td>\n",
       "      <td>6.900000</td>\n",
       "      <td>319.500000</td>\n",
       "      <td>25.000000</td>\n",
       "      <td>408.000000</td>\n",
       "      <td>674.625000</td>\n",
       "      <td>10.700000</td>\n",
       "      <td>6.000000</td>\n",
       "      <td>83.500000</td>\n",
       "      <td>110.000000</td>\n",
       "      <td>90.000000</td>\n",
       "      <td>5.0</td>\n",
       "      <td>8775.250000</td>\n",
       "      <td>2015.000000</td>\n",
       "    </tr>\n",
       "    <tr>\n",
       "      <th>50%</th>\n",
       "      <td>134.000000</td>\n",
       "      <td>20.000000</td>\n",
       "      <td>7.781500</td>\n",
       "      <td>7.800000</td>\n",
       "      <td>479.150000</td>\n",
       "      <td>25.000000</td>\n",
       "      <td>822.000000</td>\n",
       "      <td>1004.000000</td>\n",
       "      <td>27.900000</td>\n",
       "      <td>12.000000</td>\n",
       "      <td>99.200000</td>\n",
       "      <td>175.000000</td>\n",
       "      <td>100.000000</td>\n",
       "      <td>5.0</td>\n",
       "      <td>20683.500000</td>\n",
       "      <td>2018.000000</td>\n",
       "    </tr>\n",
       "    <tr>\n",
       "      <th>75%</th>\n",
       "      <td>210.000000</td>\n",
       "      <td>92.000000</td>\n",
       "      <td>8.680000</td>\n",
       "      <td>8.500000</td>\n",
       "      <td>624.750000</td>\n",
       "      <td>300.000000</td>\n",
       "      <td>1260.000000</td>\n",
       "      <td>1456.000000</td>\n",
       "      <td>50.000000</td>\n",
       "      <td>25.000000</td>\n",
       "      <td>182.000000</td>\n",
       "      <td>210.000000</td>\n",
       "      <td>200.000000</td>\n",
       "      <td>5.0</td>\n",
       "      <td>31820.000000</td>\n",
       "      <td>2019.000000</td>\n",
       "    </tr>\n",
       "    <tr>\n",
       "      <th>max</th>\n",
       "      <td>265.000000</td>\n",
       "      <td>2000.000000</td>\n",
       "      <td>13.600000</td>\n",
       "      <td>13.700000</td>\n",
       "      <td>1183.000000</td>\n",
       "      <td>1600.000000</td>\n",
       "      <td>3416.000000</td>\n",
       "      <td>4023.600000</td>\n",
       "      <td>105.000000</td>\n",
       "      <td>189.200000</td>\n",
       "      <td>240.000000</td>\n",
       "      <td>298.000000</td>\n",
       "      <td>7946.000000</td>\n",
       "      <td>5.0</td>\n",
       "      <td>36380.000000</td>\n",
       "      <td>2019.000000</td>\n",
       "    </tr>\n",
       "  </tbody>\n",
       "</table>\n",
       "</div>"
      ],
      "text/plain": [
       "       IDENTIFIER: Reference ID  PROPERTY: grain size ($\\mu$m)  \\\n",
       "count               1545.000000                     237.000000   \n",
       "mean                 134.286084                      90.222121   \n",
       "std                   80.288645                     182.997396   \n",
       "min                    1.000000                       0.018200   \n",
       "25%                   62.000000                       3.000000   \n",
       "50%                  134.000000                      20.000000   \n",
       "75%                  210.000000                      92.000000   \n",
       "max                  265.000000                    2000.000000   \n",
       "\n",
       "       PROPERTY: Exp. Density (g/cm$^3$)  \\\n",
       "count                         112.000000   \n",
       "mean                            7.639518   \n",
       "std                             2.484075   \n",
       "min                             1.460000   \n",
       "25%                             6.505000   \n",
       "50%                             7.781500   \n",
       "75%                             8.680000   \n",
       "max                            13.600000   \n",
       "\n",
       "       PROPERTY: Calculated Density (g/cm$^3$)  PROPERTY: HV  \\\n",
       "count                              1545.000000    530.000000   \n",
       "mean                                  7.962071    478.256792   \n",
       "std                                   1.760284    212.896712   \n",
       "min                                   1.400000     94.700000   \n",
       "25%                                   6.900000    319.500000   \n",
       "50%                                   7.800000    479.150000   \n",
       "75%                                   8.500000    624.750000   \n",
       "max                                  13.700000   1183.000000   \n",
       "\n",
       "       PROPERTY: Test temperature ($^\\circ$C)  PROPERTY: YS (MPa)  \\\n",
       "count                             1364.000000         1067.000000   \n",
       "mean                               227.960264          889.961471   \n",
       "std                                379.131987          570.135437   \n",
       "min                               -268.800000           24.000000   \n",
       "25%                                 25.000000          408.000000   \n",
       "50%                                 25.000000          822.000000   \n",
       "75%                                300.000000         1260.000000   \n",
       "max                               1600.000000         3416.000000   \n",
       "\n",
       "       PROPERTY: UTS (MPa)  PROPERTY: Elongation (%)  \\\n",
       "count           539.000000                619.000000   \n",
       "mean           1180.121243                 30.216688   \n",
       "std             720.870146                 22.010637   \n",
       "min              80.000000                  0.000000   \n",
       "25%             674.625000                 10.700000   \n",
       "50%            1004.000000                 27.900000   \n",
       "75%            1456.000000                 50.000000   \n",
       "max            4023.600000                105.000000   \n",
       "\n",
       "       PROPERTY: Elongation plastic (%)  PROPERTY: Exp. Young modulus (GPa)  \\\n",
       "count                        149.000000                          145.000000   \n",
       "mean                          20.272349                          124.972414   \n",
       "std                           25.725757                           56.943524   \n",
       "min                            0.000000                           16.600000   \n",
       "25%                            6.000000                           83.500000   \n",
       "50%                           12.000000                           99.200000   \n",
       "75%                           25.000000                          182.000000   \n",
       "max                          189.200000                          240.000000   \n",
       "\n",
       "       PROPERTY: Calculated Young modulus (GPa)  PROPERTY: O content (wppm)  \\\n",
       "count                                729.000000                   57.000000   \n",
       "mean                                 166.411523                  764.000000   \n",
       "std                                   48.864223                 2084.998458   \n",
       "min                                   72.000000                   80.000000   \n",
       "25%                                  110.000000                   90.000000   \n",
       "50%                                  175.000000                  100.000000   \n",
       "75%                                  210.000000                  200.000000   \n",
       "max                                  298.000000                 7946.000000   \n",
       "\n",
       "       PROPERTY: N content (wppm)  PROPERTY: C content (wppm)  REFERENCE: year  \n",
       "count                        45.0                    4.000000      1545.000000  \n",
       "mean                          5.0                19911.750000      2016.209061  \n",
       "std                           0.0                16142.818184         3.725479  \n",
       "min                           5.0                 1900.000000      2004.000000  \n",
       "25%                           5.0                 8775.250000      2015.000000  \n",
       "50%                           5.0                20683.500000      2018.000000  \n",
       "75%                           5.0                31820.000000      2019.000000  \n",
       "max                           5.0                36380.000000      2019.000000  "
      ]
     },
     "execution_count": 1238,
     "metadata": {},
     "output_type": "execute_result"
    }
   ],
   "source": [
    "# Describe numeric fields\n",
    "mpea_raw.describe()"
   ]
  },
  {
   "cell_type": "markdown",
   "id": "6ac2fa04-a810-4dc0-bb8b-cac532e8e4e5",
   "metadata": {},
   "source": [
    "### 1.3. Column Selection and Initial Cleaning\n",
    "\n",
    "#### 1.3.1. Column Selection\n",
    "\n",
    "To prepare the dataset for analysis, a careful selection of columns will be performed based on their relevance to the project’s objective: identifying materials with exceptional yield strength.\n",
    "\n",
    "\n",
    "- **Reference ID** will be retained to ensure traceability. The other reference information (`doi`, `year`, `title`) can be retrieved from it if needed and will be excluded from the working dataset.\n",
    "- **`PROPERTY: BCC/FCC/other`** will be discarded because its information is already fully captured, in greater detail, by **`PROPERTY: Microstructure`**.\n",
    "- **Processing method**, **Grain size**, and **Density** will be kept, as these features may show relationships with yield strength and offer physical insights into alloy behavior.\n",
    "- **Hardness (HV)** will not be the focus of this study. Although it is a valuable property, a similar workflow could be applied to it in the future.\n",
    "- **Type of test** will initially be used to filter the dataset, retaining only tensile tests. After subsetting, this column will no longer be needed and will be removed.\n",
    "- **Test temperature** will also be used for subsetting, keeping only measurements performed at room temperature. After subsetting, this column will also be discarded.\n",
    "- **Yield Strength (YS)** will be retained as the primary mechanical property of interest, representing the material’s transition from elastic to plastic deformation.\n",
    "- **Ultimate Tensile Strength (UTS)** will be excluded to maintain focus on elastic regime properties rather than post-yield behavior.\n",
    "- **Elongation (%), Elongation plastic (%), Experimental Young’s modulus, Calculated Young’s modulus**, and **Chemical composition** will be excluded to narrow the analysis scope.\n",
    "\n",
    "The project will center on studying **Yield Strength** and exploring how microstructure, processing methods, and grain size may relate to superior mechanical performance.  \n",
    "With that in mind, let's **select the columns** relevant to the project’s objectives:"
   ]
  },
  {
   "cell_type": "code",
   "execution_count": 1240,
   "id": "9468ffec-cc8d-4aad-ae16-fc345aacf8d1",
   "metadata": {},
   "outputs": [],
   "source": [
    "# Define the list of columns to preserve\n",
    "columns_to_keep = [\n",
    "    \"IDENTIFIER: Reference ID\",\n",
    "    \"FORMULA\",\n",
    "    \"PROPERTY: Microstructure\",\n",
    "    \"PROPERTY: Processing method\",\n",
    "    r\"PROPERTY: grain size ($\\mu$m)\",\n",
    "    \"PROPERTY: Exp. Density (g/cm$^3$)\",\n",
    "    \"PROPERTY: Calculated Density (g/cm$^3$)\",\n",
    "    \"PROPERTY: Type of test\",\n",
    "    r\"PROPERTY: Test temperature ($^\\circ$C)\",\n",
    "    \"PROPERTY: YS (MPa)\"\n",
    "]\n",
    "\n",
    "# Create a new DataFrame with the selected columns\n",
    "mpea_selected = mpea_raw[columns_to_keep].copy()"
   ]
  },
  {
   "cell_type": "markdown",
   "id": "7afb000c-1a27-41cd-9e3d-eb929ceebc89",
   "metadata": {},
   "source": [
    "### 1.3.2. Data Subsetting: Room Temperature and Tensile Tests\n",
    "\n",
    "To keep the analysis focused and comparable, only tests performed at **room temperature** (25 °C) under **tensile loading** will be considered.  \n",
    "Investigating different temperatures or compression behavior could certainly offer valuable insights, but it falls beyond the scope of this study.\n",
    "\n",
    "First, let's confirm that most mechanical tests were conducted at room temperature, as suggested in the initial exploration:"
   ]
  },
  {
   "cell_type": "code",
   "execution_count": 1242,
   "id": "80db4f9b-0a38-4d2c-92b4-daa0ee40854a",
   "metadata": {},
   "outputs": [
    {
     "data": {
      "text/plain": [
       "PROPERTY: Test temperature ($^\\circ$C)\n",
       "25.0      911\n",
       "NaN       181\n",
       "1000.0     81\n",
       "800.0      68\n",
       "1200.0     55\n",
       "         ... \n",
       "720.0       1\n",
       "740.0       1\n",
       "760.0       1\n",
       "780.0       1\n",
       "840.0       1\n",
       "Name: count, Length: 65, dtype: int64"
      ]
     },
     "execution_count": 1242,
     "metadata": {},
     "output_type": "execute_result"
    }
   ],
   "source": [
    "# Display the most common test temperatures\n",
    "mpea_selected[r\"PROPERTY: Test temperature ($^\\circ$C)\"].value_counts(dropna=False).sort_values(ascending=False)"
   ]
  },
  {
   "cell_type": "markdown",
   "id": "23baba51-0fce-4ae4-9dde-ec1fd3fd5357",
   "metadata": {},
   "source": [
    "As expected, the majority of tests were conducted at **25.0 °C**. For our purposes, the dataset will be restricted to materials tested at this temperature:"
   ]
  },
  {
   "cell_type": "code",
   "execution_count": 1244,
   "id": "65ac60c7-10ea-491d-bd17-a6b55828226c",
   "metadata": {},
   "outputs": [],
   "source": [
    "# Filter dataset to keep only tests conducted at 25.0°C\n",
    "mpea_selected = mpea_selected[mpea_selected[r\"PROPERTY: Test temperature ($^\\circ$C)\"] == 25.0].copy()"
   ]
  },
  {
   "cell_type": "markdown",
   "id": "2438d786-f484-40be-abb0-2aa537d940a9",
   "metadata": {},
   "source": [
    "Now, we'll keep only **tensile tests** (`Type of test = \"T\"`):"
   ]
  },
  {
   "cell_type": "code",
   "execution_count": 1246,
   "id": "8ae665a1-c668-466b-af9a-395a1bcae2f7",
   "metadata": {},
   "outputs": [],
   "source": [
    "# Filter dataset to keep only tensile tests\n",
    "mpea_selected = mpea_selected[mpea_selected[\"PROPERTY: Type of test\"] == \"T\"].copy()"
   ]
  },
  {
   "cell_type": "markdown",
   "id": "414f627f-00cc-433c-b121-a5032db01ecc",
   "metadata": {},
   "source": [
    "After subsetting the dataset to room-temperature tensile tests, the columns `PROPERTY: Test temperature (°C)` and `PROPERTY: Type of test` can be removed:"
   ]
  },
  {
   "cell_type": "code",
   "execution_count": 1248,
   "id": "27b19349-c347-40c6-9316-d1bf38ed803c",
   "metadata": {},
   "outputs": [],
   "source": [
    "# Drop filtering columns\n",
    "columns_to_drop = [\n",
    "    r\"PROPERTY: Test temperature ($^\\circ$C)\",\n",
    "    \"PROPERTY: Type of test\"\n",
    "]\n",
    "mpea_selected = mpea_selected.drop(columns=columns_to_drop)"
   ]
  },
  {
   "cell_type": "markdown",
   "id": "bfa31c86-8956-4f9f-8deb-41db72f769fd",
   "metadata": {},
   "source": [
    "### 1.4. Missing Data Treatment\n",
    "\n",
    "The next step is to check for missing values across variables. Let's calculate the **percentage of missing values** in each column to identify fields with incomplete data:"
   ]
  },
  {
   "cell_type": "code",
   "execution_count": 1250,
   "id": "60480d4a-65af-49e8-870a-c9ef1d64d98b",
   "metadata": {},
   "outputs": [
    {
     "data": {
      "text/plain": [
       "IDENTIFIER: Reference ID                    0.0\n",
       "FORMULA                                     0.0\n",
       "PROPERTY: Microstructure                    5.4\n",
       "PROPERTY: Processing method                 2.2\n",
       "PROPERTY: grain size ($\\mu$m)              49.7\n",
       "PROPERTY: Exp. Density (g/cm$^3$)          99.4\n",
       "PROPERTY: Calculated Density (g/cm$^3$)     0.0\n",
       "PROPERTY: YS (MPa)                         10.2\n",
       "dtype: float64"
      ]
     },
     "execution_count": 1250,
     "metadata": {},
     "output_type": "execute_result"
    }
   ],
   "source": [
    "# Percentage of missing values per column\n",
    "(mpea_selected.isnull().mean() * 100).round(1)"
   ]
  },
  {
   "cell_type": "markdown",
   "id": "4d638af8-4ab0-40c4-8988-efdac9f33541",
   "metadata": {},
   "source": [
    "Now let's create a **missing values matrix** to visualize the distribution of missing data:"
   ]
  },
  {
   "cell_type": "code",
   "execution_count": 1252,
   "id": "92080ae8-39f0-4473-9541-930ad620d8c9",
   "metadata": {},
   "outputs": [
    {
     "data": {
      "image/png": "[encoded data removed]",
      "text/plain": [
       "<Figure size 1200x600 with 1 Axes>"
      ]
     },
     "metadata": {},
     "output_type": "display_data"
    }
   ],
   "source": [
    "# Create figure and axis\n",
    "fig, ax = plt.subplots(figsize=(12, 6))\n",
    "\n",
    "# Generate missingno matrix\n",
    "msno.matrix(\n",
    "    mpea_selected,\n",
    "    sparkline=False,\n",
    "    fontsize=10,\n",
    "    ax=ax\n",
    ")\n",
    "\n",
    "# Grid visibility\n",
    "ax.grid(visible=False)\n",
    "\n",
    "# Add custom title\n",
    "ax.set_title(\"Figure 2: Missing Data Patterns\", pad=20, fontsize=14)\n",
    "\n",
    "# Save and show\n",
    "plt.tight_layout()\n",
    "plt.savefig('../analysis/figures/missing_data.png', \n",
    "            dpi=300, \n",
    "            bbox_inches='tight')\n",
    "plt.show()"
   ]
  },
  {
   "cell_type": "markdown",
   "id": "e3ecea8d-4114-43bb-ba7b-a4f038149609",
   "metadata": {},
   "source": [
    "After reviewing the missing values distribution, decisions about data cleaning can be made:\n",
    "\n",
    "- **PROPERTY: Exp. Density (g/cm³)** will be **dropped** because it has **over 99% missing values**, making it unsuitable for meaningful analysis.\n",
    "- **PROPERTY: grain size (μm)** will be **retained**, despite around **50% missingness**, because it may provide valuable physical insights. Analyses involving grain size will be conducted separately on the subset where this property is available.\n",
    "- Rows with missing values in **Microstructure**, **Processing Method**, or **Yield Strength** will be **dropped**, as these variables are essential for the project's core analyses.\n",
    "\n",
    "This strategy ensures that critical fields remain complete, while still leveraging partial data for secondary investigations when possible."
   ]
  },
  {
   "cell_type": "code",
   "execution_count": 1254,
   "id": "757f3cc8-336c-42af-9762-fdcda24192c2",
   "metadata": {},
   "outputs": [
    {
     "name": "stdout",
     "output_type": "stream",
     "text": [
      "(258, 7)\n",
      "IDENTIFIER: Reference ID                    0.0\n",
      "FORMULA                                     0.0\n",
      "PROPERTY: Microstructure                    0.0\n",
      "PROPERTY: Processing method                 0.0\n",
      "PROPERTY: grain size ($\\mu$m)              44.6\n",
      "PROPERTY: Calculated Density (g/cm$^3$)     0.0\n",
      "PROPERTY: YS (MPa)                          0.0\n",
      "dtype: float64\n"
     ]
    }
   ],
   "source": [
    "# Drop Expected Density column\n",
    "mpea_selected = mpea_selected.drop(columns=[\"PROPERTY: Exp. Density (g/cm$^3$)\"])\n",
    "\n",
    "# Drop rows where key fields are missing\n",
    "key_fields = [\n",
    "    \"PROPERTY: Microstructure\",\n",
    "    \"PROPERTY: Processing method\",\n",
    "    \"PROPERTY: YS (MPa)\"\n",
    "]\n",
    "\n",
    "mpea_selected = mpea_selected.dropna(subset=key_fields).reset_index(drop=True)\n",
    "\n",
    "# Quick check after cleaning\n",
    "print(mpea_selected.shape)\n",
    "print(mpea_selected.isnull().mean().round(3) * 100)"
   ]
  },
  {
   "cell_type": "markdown",
   "id": "d91f6e69-c665-42e7-b26c-94131bbbba38",
   "metadata": {},
   "source": [
    "### 1.5. Column Renaming and Type Conversion\n",
    "\n",
    "With only the relevant fields remaining, the next step is to **rename the columns for clarity**. \n",
    "\n",
    "Prefixes like `PROPERTY:` will be removed, abbreviations will be expanded, and names will be made more readable to support a clean and interpretable analysis workflow."
   ]
  },
  {
   "cell_type": "code",
   "execution_count": 1256,
   "id": "600d664d-c14d-45ff-b86c-bf2f0d83b65a",
   "metadata": {},
   "outputs": [],
   "source": [
    "# Rename columns for clarity\n",
    "\n",
    "rename_mapping = {\n",
    "    \"IDENTIFIER: Reference ID\": \"Reference ID\",\n",
    "    \"FORMULA\": \"Formula\",\n",
    "    \"PROPERTY: Microstructure\": \"Microstructure\",\n",
    "    \"PROPERTY: Processing method\": \"Processing Method\",\n",
    "    r\"PROPERTY: grain size ($\\mu$m)\": \"Grain Size (μm)\",\n",
    "    \"PROPERTY: Calculated Density (g/cm$^3$)\": \"Calculated Density (g/cm³)\",\n",
    "    \"PROPERTY: YS (MPa)\": \"Yield Strength (MPa)\",\n",
    "}\n",
    "\n",
    "mpea_selected = mpea_selected.rename(columns=rename_mapping)"
   ]
  },
  {
   "cell_type": "markdown",
   "id": "cfda7aad-8dbd-4a13-87ee-fc50a29c1729",
   "metadata": {},
   "source": [
    "Now let's check the **data types** of each variable:"
   ]
  },
  {
   "cell_type": "code",
   "execution_count": 1258,
   "id": "afa8ffdd-0792-4ff0-8a44-39ecba11b72b",
   "metadata": {},
   "outputs": [
    {
     "name": "stdout",
     "output_type": "stream",
     "text": [
      "Reference ID                    int64\n",
      "Formula                        object\n",
      "Microstructure                 object\n",
      "Processing Method              object\n",
      "Grain Size (μm)               float64\n",
      "Calculated Density (g/cm³)    float64\n",
      "Yield Strength (MPa)          float64\n",
      "dtype: object\n"
     ]
    }
   ],
   "source": [
    "# Check data types\n",
    "print(mpea_selected.dtypes)"
   ]
  },
  {
   "cell_type": "markdown",
   "id": "3dbf5324-7a53-475b-972a-159273d3e0d7",
   "metadata": {},
   "source": [
    "Since both **Processing Method** and **Microstructure** have only a few distinct categories, they will be converted to the `category` data type:"
   ]
  },
  {
   "cell_type": "code",
   "execution_count": 1268,
   "id": "7a151d14-d6c3-461b-bec2-76b87e4a8979",
   "metadata": {},
   "outputs": [
    {
     "name": "stdout",
     "output_type": "stream",
     "text": [
      "Reference ID                     int64\n",
      "Formula                         object\n",
      "Microstructure                category\n",
      "Processing Method             category\n",
      "Grain Size (μm)                float64\n",
      "Calculated Density (g/cm³)     float64\n",
      "Yield Strength (MPa)           float64\n",
      "dtype: object\n"
     ]
    }
   ],
   "source": [
    "# Convert columns to 'category' dtype\n",
    "cols_to_category = [\"Processing Method\", \"Microstructure\"]\n",
    "mpea_selected[cols_to_category] = mpea_selected[cols_to_category].astype(\"category\")\n",
    "\n",
    "# Confirm updated data types\n",
    "print(mpea_selected.dtypes)"
   ]
  },
  {
   "cell_type": "code",
   "execution_count": 1282,
   "id": "370cac1d-6baa-4906-8efa-84257f528d88",
   "metadata": {},
   "outputs": [
    {
     "data": {
      "text/html": [
       "<div>\n",
       "<style scoped>\n",
       "    .dataframe tbody tr th:only-of-type {\n",
       "        vertical-align: middle;\n",
       "    }\n",
       "\n",
       "    .dataframe tbody tr th {\n",
       "        vertical-align: top;\n",
       "    }\n",
       "\n",
       "    .dataframe thead th {\n",
       "        text-align: right;\n",
       "    }\n",
       "</style>\n",
       "<table border=\"1\" class=\"dataframe\">\n",
       "  <thead>\n",
       "    <tr style=\"text-align: right;\">\n",
       "      <th></th>\n",
       "      <th>Reference ID</th>\n",
       "      <th>Formula</th>\n",
       "      <th>Microstructure</th>\n",
       "      <th>Processing Method</th>\n",
       "      <th>Grain Size (μm)</th>\n",
       "      <th>Calculated Density (g/cm³)</th>\n",
       "      <th>Yield Strength (MPa)</th>\n",
       "    </tr>\n",
       "  </thead>\n",
       "  <tbody>\n",
       "    <tr>\n",
       "      <th>0</th>\n",
       "      <td>37</td>\n",
       "      <td>Co1 Cr1 Fe1 Ni1</td>\n",
       "      <td>FCC</td>\n",
       "      <td>WROUGHT</td>\n",
       "      <td>24.0</td>\n",
       "      <td>8.2</td>\n",
       "      <td>274.0</td>\n",
       "    </tr>\n",
       "    <tr>\n",
       "      <th>1</th>\n",
       "      <td>37</td>\n",
       "      <td>Co1 Cr1 Mn1 Ni1</td>\n",
       "      <td>FCC</td>\n",
       "      <td>WROUGHT</td>\n",
       "      <td>36.0</td>\n",
       "      <td>8.1</td>\n",
       "      <td>282.0</td>\n",
       "    </tr>\n",
       "    <tr>\n",
       "      <th>2</th>\n",
       "      <td>37</td>\n",
       "      <td>Co1 Cr1 Ni1</td>\n",
       "      <td>FCC</td>\n",
       "      <td>WROUGHT</td>\n",
       "      <td>41.0</td>\n",
       "      <td>8.3</td>\n",
       "      <td>300.0</td>\n",
       "    </tr>\n",
       "  </tbody>\n",
       "</table>\n",
       "</div>"
      ],
      "text/plain": [
       "   Reference ID          Formula Microstructure Processing Method  \\\n",
       "0            37  Co1 Cr1 Fe1 Ni1            FCC           WROUGHT   \n",
       "1            37  Co1 Cr1 Mn1 Ni1            FCC           WROUGHT   \n",
       "2            37      Co1 Cr1 Ni1            FCC           WROUGHT   \n",
       "\n",
       "   Grain Size (μm)  Calculated Density (g/cm³)  Yield Strength (MPa)  \n",
       "0             24.0                         8.2                 274.0  \n",
       "1             36.0                         8.1                 282.0  \n",
       "2             41.0                         8.3                 300.0  "
      ]
     },
     "execution_count": 1282,
     "metadata": {},
     "output_type": "execute_result"
    }
   ],
   "source": [
    "# Check updated dataset\n",
    "mpea_selected.head(3)"
   ]
  },
  {
   "cell_type": "markdown",
   "id": "af3418a4-3743-4ec8-af85-6c1b2fa9bc27",
   "metadata": {},
   "source": [
    "The column names and data types have been successfully adjusted, and the dataset is now ready for the next stage: documenting a data dictionary."
   ]
  },
  {
   "cell_type": "markdown",
   "id": "a49e256a-3921-49ba-b3b2-07f04fb96b1a",
   "metadata": {},
   "source": [
    "### 1.6 Data Dictionary "
   ]
  },
  {
   "cell_type": "markdown",
   "id": "55b46f33-a5cb-46ca-938e-8e86d1e8e107",
   "metadata": {},
   "source": [
    "Before diving deeper, let’s build a **data dictionary** to keep our dataset organized. It will help track the meaning and purpose of each column during the next steps.\n",
    "\n",
    "Below is a summary of the cleaned dataset, with variable names, types, and short descriptions:\n",
    "\n",
    "| Column                     | Data Type  | Description                                                                 |\n",
    "|---------------------------|------------|-----------------------------------------------------------------------------|\n",
    "| Reference ID              | int64      | Internal identifier used for traceability within the dataset               |\n",
    "| Formula                   | object     | Chemical formula of the alloy                                              |\n",
    "| Microstructure            | category     | Observed microstructure phase (e.g., FCC, BCC, multiphase)                 |\n",
    "| Processing Method         | category   | Manufacturing technique (e.g., CAST, WROUGHT)                              |\n",
    "| Grain Size (μm)           | float64    | Average grain size in micrometers                                          |\n",
    "| Calculated Density (g/cm³)| float64    | Density calculated using the rule of mixtures (ROM)                        |\n",
    "| Yield Strength (MPa)      | float64    | Stress at which material undergoes permanent (plastic) deformation\n"
   ]
  },
  {
   "cell_type": "markdown",
   "id": "cb3a30c1-75a7-40f3-9071-5b8edf326301",
   "metadata": {},
   "source": [
    "### 1.7. Data Validation\n",
    "Although the study authors performed careful validation of the dataset during its compilation, an **additional verification** step will be carried out to ensure consistency before beginning the exploratory analysis. A quick check will be conducted on the dataset's structure, key identifiers, and basic variable ranges to confirm there are no anomalies that could affect later stages of the project."
   ]
  },
  {
   "cell_type": "code",
   "execution_count": 1288,
   "id": "18ece82d-4529-4b38-8eaa-9e233dd4ffe8",
   "metadata": {},
   "outputs": [
    {
     "name": "stdout",
     "output_type": "stream",
     "text": [
      "Duplicated rows: 0\n"
     ]
    }
   ],
   "source": [
    "# Check for duplicated rows\n",
    "print(\"Duplicated rows:\", mpea_selected.duplicated().sum())"
   ]
  },
  {
   "cell_type": "code",
   "execution_count": 1304,
   "id": "10c5243c-c536-4e46-8032-c4774f8bc2d8",
   "metadata": {},
   "outputs": [
    {
     "name": "stdout",
     "output_type": "stream",
     "text": [
      "['BCC', 'BCC+B2', 'BCC+BCC', 'BCC+BCC+HCP', 'BCC+HCP', 'BCC+Sec.', 'FCC', 'FCC+B2', 'FCC+B2+Sec.', 'FCC+BCC', 'FCC+BCC+B2', 'FCC+BCC+B2+Sec.', 'FCC+BCC+Sec.', 'FCC+HCP', 'FCC+L12', 'FCC+L12+B2', 'FCC+L12+Sec.', 'FCC+Laves', 'FCC+Laves+Sec.', 'FCC+Sec.', 'Other']\n"
     ]
    }
   ],
   "source": [
    "# Check unique Microstructure values\n",
    "print(sorted(mpea_selected['Microstructure'].unique()))"
   ]
  },
  {
   "cell_type": "code",
   "execution_count": 1306,
   "id": "8474ce7f-a2aa-45e4-83ba-807868cd0a4b",
   "metadata": {},
   "outputs": [
    {
     "name": "stdout",
     "output_type": "stream",
     "text": [
      "['ANNEAL', 'CAST', 'OTHER', 'WROUGHT']\n"
     ]
    }
   ],
   "source": [
    "# Check unique Processing Method values\n",
    "print(sorted(mpea_selected['Processing Method'].unique()))"
   ]
  },
  {
   "cell_type": "code",
   "execution_count": 1298,
   "id": "54ead650-0029-4c12-b017-e9f24848cce1",
   "metadata": {},
   "outputs": [
    {
     "data": {
      "text/html": [
       "<div>\n",
       "<style scoped>\n",
       "    .dataframe tbody tr th:only-of-type {\n",
       "        vertical-align: middle;\n",
       "    }\n",
       "\n",
       "    .dataframe tbody tr th {\n",
       "        vertical-align: top;\n",
       "    }\n",
       "\n",
       "    .dataframe thead th {\n",
       "        text-align: right;\n",
       "    }\n",
       "</style>\n",
       "<table border=\"1\" class=\"dataframe\">\n",
       "  <thead>\n",
       "    <tr style=\"text-align: right;\">\n",
       "      <th></th>\n",
       "      <th>Reference ID</th>\n",
       "      <th>Grain Size (μm)</th>\n",
       "      <th>Calculated Density (g/cm³)</th>\n",
       "      <th>Yield Strength (MPa)</th>\n",
       "    </tr>\n",
       "  </thead>\n",
       "  <tbody>\n",
       "    <tr>\n",
       "      <th>count</th>\n",
       "      <td>258.000000</td>\n",
       "      <td>143.000000</td>\n",
       "      <td>258.000000</td>\n",
       "      <td>258.000000</td>\n",
       "    </tr>\n",
       "    <tr>\n",
       "      <th>mean</th>\n",
       "      <td>170.534884</td>\n",
       "      <td>49.557014</td>\n",
       "      <td>8.195736</td>\n",
       "      <td>621.530116</td>\n",
       "    </tr>\n",
       "    <tr>\n",
       "      <th>std</th>\n",
       "      <td>64.141144</td>\n",
       "      <td>100.999202</td>\n",
       "      <td>0.748553</td>\n",
       "      <td>364.303829</td>\n",
       "    </tr>\n",
       "    <tr>\n",
       "      <th>min</th>\n",
       "      <td>16.000000</td>\n",
       "      <td>0.050000</td>\n",
       "      <td>6.500000</td>\n",
       "      <td>62.000000</td>\n",
       "    </tr>\n",
       "    <tr>\n",
       "      <th>25%</th>\n",
       "      <td>131.250000</td>\n",
       "      <td>2.100000</td>\n",
       "      <td>7.800000</td>\n",
       "      <td>320.000000</td>\n",
       "    </tr>\n",
       "    <tr>\n",
       "      <th>50%</th>\n",
       "      <td>192.000000</td>\n",
       "      <td>8.700000</td>\n",
       "      <td>8.100000</td>\n",
       "      <td>525.500000</td>\n",
       "    </tr>\n",
       "    <tr>\n",
       "      <th>75%</th>\n",
       "      <td>216.000000</td>\n",
       "      <td>40.500000</td>\n",
       "      <td>8.400000</td>\n",
       "      <td>862.000000</td>\n",
       "    </tr>\n",
       "    <tr>\n",
       "      <th>max</th>\n",
       "      <td>260.000000</td>\n",
       "      <td>500.000000</td>\n",
       "      <td>10.200000</td>\n",
       "      <td>1900.000000</td>\n",
       "    </tr>\n",
       "  </tbody>\n",
       "</table>\n",
       "</div>"
      ],
      "text/plain": [
       "       Reference ID  Grain Size (μm)  Calculated Density (g/cm³)  \\\n",
       "count    258.000000       143.000000                  258.000000   \n",
       "mean     170.534884        49.557014                    8.195736   \n",
       "std       64.141144       100.999202                    0.748553   \n",
       "min       16.000000         0.050000                    6.500000   \n",
       "25%      131.250000         2.100000                    7.800000   \n",
       "50%      192.000000         8.700000                    8.100000   \n",
       "75%      216.000000        40.500000                    8.400000   \n",
       "max      260.000000       500.000000                   10.200000   \n",
       "\n",
       "       Yield Strength (MPa)  \n",
       "count            258.000000  \n",
       "mean             621.530116  \n",
       "std              364.303829  \n",
       "min               62.000000  \n",
       "25%              320.000000  \n",
       "50%              525.500000  \n",
       "75%              862.000000  \n",
       "max             1900.000000  "
      ]
     },
     "execution_count": 1298,
     "metadata": {},
     "output_type": "execute_result"
    }
   ],
   "source": [
    "# Describe numeric variables\n",
    "mpea_selected.describe()"
   ]
  },
  {
   "cell_type": "markdown",
   "id": "836f6d96-5cbb-490d-a0ca-99cac7b055f6",
   "metadata": {},
   "source": [
    "I'll briefly inspect the **extreme values** observed in the numerical variables to confirm their plausibility.\n",
    "\n",
    "- The **smallest grain size** (0.05 μm) falls within the nanoscale range, which may indicate **nanostructured alloys**—worth confirming to ensure it's not a data entry error.  \n",
    "- The **largest grain size** (500 μm) is appears reasonable for **cast or annealed MPEAs**.  \n",
    "- The **calculated densities** range from 6.5 to 10.2 g/cm³, consistent with both light and heavy alloys in multicomponent systems.  \n",
    "- The **maximum yield strength** (1900 MPa) aligns with expectations for ultra-high-strength alloys, while the **lowest value** (62 MPa) appears unexpectedly low for a metal and will be checked to ensure it reflects a valid measurement.\n",
    "\n",
    "Let's investigate these edge cases in more detail."
   ]
  },
  {
   "cell_type": "code",
   "execution_count": 1318,
   "id": "7cd87dc6-9f6f-4793-ad4d-386b8d4b6970",
   "metadata": {},
   "outputs": [
    {
     "name": "stdout",
     "output_type": "stream",
     "text": [
      "Records with smallest grain size:\n"
     ]
    },
    {
     "data": {
      "text/html": [
       "<div>\n",
       "<style scoped>\n",
       "    .dataframe tbody tr th:only-of-type {\n",
       "        vertical-align: middle;\n",
       "    }\n",
       "\n",
       "    .dataframe tbody tr th {\n",
       "        vertical-align: top;\n",
       "    }\n",
       "\n",
       "    .dataframe thead th {\n",
       "        text-align: right;\n",
       "    }\n",
       "</style>\n",
       "<table border=\"1\" class=\"dataframe\">\n",
       "  <thead>\n",
       "    <tr style=\"text-align: right;\">\n",
       "      <th></th>\n",
       "      <th>Reference ID</th>\n",
       "      <th>Formula</th>\n",
       "      <th>Microstructure</th>\n",
       "      <th>Processing Method</th>\n",
       "      <th>Grain Size (μm)</th>\n",
       "      <th>Calculated Density (g/cm³)</th>\n",
       "      <th>Yield Strength (MPa)</th>\n",
       "    </tr>\n",
       "  </thead>\n",
       "  <tbody>\n",
       "    <tr>\n",
       "      <th>23</th>\n",
       "      <td>79</td>\n",
       "      <td>Hf1 Nb1 Ta1 Ti1 Zr1</td>\n",
       "      <td>BCC</td>\n",
       "      <td>OTHER</td>\n",
       "      <td>0.05</td>\n",
       "      <td>9.9</td>\n",
       "      <td>1900.0</td>\n",
       "    </tr>\n",
       "    <tr>\n",
       "      <th>24</th>\n",
       "      <td>79</td>\n",
       "      <td>Hf1 Nb1 Ta1 Ti1 Zr1</td>\n",
       "      <td>BCC+HCP</td>\n",
       "      <td>OTHER</td>\n",
       "      <td>0.05</td>\n",
       "      <td>9.9</td>\n",
       "      <td>1520.0</td>\n",
       "    </tr>\n",
       "  </tbody>\n",
       "</table>\n",
       "</div>"
      ],
      "text/plain": [
       "    Reference ID              Formula Microstructure Processing Method  \\\n",
       "23            79  Hf1 Nb1 Ta1 Ti1 Zr1            BCC             OTHER   \n",
       "24            79  Hf1 Nb1 Ta1 Ti1 Zr1        BCC+HCP             OTHER   \n",
       "\n",
       "    Grain Size (μm)  Calculated Density (g/cm³)  Yield Strength (MPa)  \n",
       "23             0.05                         9.9                1900.0  \n",
       "24             0.05                         9.9                1520.0  "
      ]
     },
     "metadata": {},
     "output_type": "display_data"
    }
   ],
   "source": [
    "# Check the entries with the lowest grain size\n",
    "min_grain_row = mpea_selected[mpea_selected[\"Grain Size (μm)\"] == mpea_selected[\"Grain Size (μm)\"].min()]\n",
    "print(\"Records with smallest grain size:\")\n",
    "display(min_grain_row)"
   ]
  },
  {
   "cell_type": "code",
   "execution_count": 1312,
   "id": "bc8d4c23-0198-4324-8e87-3b53d7d5b2ee",
   "metadata": {},
   "outputs": [
    {
     "name": "stdout",
     "output_type": "stream",
     "text": [
      "Record with lowest yield strength:\n"
     ]
    },
    {
     "data": {
      "text/html": [
       "<div>\n",
       "<style scoped>\n",
       "    .dataframe tbody tr th:only-of-type {\n",
       "        vertical-align: middle;\n",
       "    }\n",
       "\n",
       "    .dataframe tbody tr th {\n",
       "        vertical-align: top;\n",
       "    }\n",
       "\n",
       "    .dataframe thead th {\n",
       "        text-align: right;\n",
       "    }\n",
       "</style>\n",
       "<table border=\"1\" class=\"dataframe\">\n",
       "  <thead>\n",
       "    <tr style=\"text-align: right;\">\n",
       "      <th></th>\n",
       "      <th>Reference ID</th>\n",
       "      <th>Formula</th>\n",
       "      <th>Microstructure</th>\n",
       "      <th>Processing Method</th>\n",
       "      <th>Grain Size (μm)</th>\n",
       "      <th>Calculated Density (g/cm³)</th>\n",
       "      <th>Yield Strength (MPa)</th>\n",
       "    </tr>\n",
       "  </thead>\n",
       "  <tbody>\n",
       "    <tr>\n",
       "      <th>199</th>\n",
       "      <td>234</td>\n",
       "      <td>Al0.15 Cr0.5 Cu0.25 Fe0.5 Ni1</td>\n",
       "      <td>FCC</td>\n",
       "      <td>WROUGHT</td>\n",
       "      <td>NaN</td>\n",
       "      <td>7.8</td>\n",
       "      <td>62.0</td>\n",
       "    </tr>\n",
       "  </tbody>\n",
       "</table>\n",
       "</div>"
      ],
      "text/plain": [
       "     Reference ID                        Formula Microstructure  \\\n",
       "199           234  Al0.15 Cr0.5 Cu0.25 Fe0.5 Ni1            FCC   \n",
       "\n",
       "    Processing Method  Grain Size (μm)  Calculated Density (g/cm³)  \\\n",
       "199           WROUGHT              NaN                         7.8   \n",
       "\n",
       "     Yield Strength (MPa)  \n",
       "199                  62.0  "
      ]
     },
     "metadata": {},
     "output_type": "display_data"
    }
   ],
   "source": [
    "# Check the entry with the lowest yield strength\n",
    "min_ys_row = mpea_selected[mpea_selected[\"Yield Strength (MPa)\"] == mpea_selected[\"Yield Strength (MPa)\"].min()]\n",
    "print(\"Record with lowest yield strength:\")\n",
    "display(min_ys_row)"
   ]
  },
  {
   "cell_type": "markdown",
   "id": "28d89953-d6d7-4c82-a57d-3a142d245a64",
   "metadata": {},
   "source": [
    "The article linked to **Reference ID 79**, retrieved using the DOI provided in the original dataset, discusses a nanocrystalline alloy and confirms that the **grain size** is indeed **50 nm**, validating the reported nanoscale measurement.  \n",
    "Likewise, **Reference ID 234** reports that a solid-solutionized Al₀.₁₅Cr₀.₅Cu₀.₂₅Fe₀.₅Ni₁ alloy exhibited a **yield strength** of just **61 MPa** alongside nearly 100% elongation. This confirms that the low value of 62 MPa observed in the dataset is accurate and not an error.  \n",
    "\n",
    "Having confirmed the plausibility of extreme values and ensured overall consistency in the dataset, we conclude the data validation stage.\n",
    "Let's now **save the cleaned dataset** for future use and move on to the Exploratory Data Analysis."
   ]
  },
  {
   "cell_type": "code",
   "execution_count": 1327,
   "id": "c5a46351-6993-4a88-b7d0-b6d2e7eaff51",
   "metadata": {},
   "outputs": [],
   "source": [
    "# Save the cleaned dataset\n",
    "mpea_selected.to_csv(\"../data/processed/mpea_clean.csv\", index=False)"
   ]
  },
  {
   "cell_type": "markdown",
   "id": "438f16ee-698f-42f5-ac1c-7c955c572d45",
   "metadata": {},
   "source": [
    "## 2. Exploratory Data Analysis (EDA)\n",
    "\n",
    "In this section, we will explore the relationships between variables—particularly how **microstructure**, **processing methods**, **grain size**, and **density** relate to **yield strength**. Visualizations and statistical summaries will guide us in identifying potential patterns, trends, and groups worth investigating further."
   ]
  },
  {
   "cell_type": "code",
   "execution_count": null,
   "id": "ec6790c7-f9f1-4b47-89f8-c81f846cee03",
   "metadata": {},
   "outputs": [],
   "source": []
  },
  {
   "cell_type": "code",
   "execution_count": null,
   "id": "c8bb30c6-455e-4ce2-9812-c0118c7c4977",
   "metadata": {},
   "outputs": [],
   "source": []
  },
  {
   "cell_type": "code",
   "execution_count": null,
   "id": "fc47654e-2109-46b6-bd65-1ec6c2effb91",
   "metadata": {},
   "outputs": [],
   "source": []
  },
  {
   "cell_type": "code",
   "execution_count": null,
   "id": "115fe492-2664-4cd2-9a73-f5e1b1623e13",
   "metadata": {},
   "outputs": [],
   "source": []
  },
  {
   "cell_type": "code",
   "execution_count": null,
   "id": "b168b5b0-d098-46c2-ada3-3f9c8d103b3a",
   "metadata": {},
   "outputs": [],
   "source": []
  },
  {
   "cell_type": "code",
   "execution_count": null,
   "id": "a10ba61d-5658-45d2-b9a6-e1070598df45",
   "metadata": {},
   "outputs": [],
   "source": []
  },
  {
   "cell_type": "code",
   "execution_count": null,
   "id": "f1b9e184-8732-4899-9c9e-4c90b52b8397",
   "metadata": {},
   "outputs": [],
   "source": []
  },
  {
   "cell_type": "code",
   "execution_count": null,
   "id": "73380a2c-5d7b-4397-a41e-842743707ea2",
   "metadata": {},
   "outputs": [],
   "source": []
  }
 ],
 "metadata": {
  "kernelspec": {
   "display_name": "Python [conda env:base] *",
   "language": "python",
   "name": "conda-base-py"
  },
  "language_info": {
   "codemirror_mode": {
    "name": "ipython",
    "version": 3
   },
   "file_extension": ".py",
   "mimetype": "text/x-python",
   "name": "python",
   "nbconvert_exporter": "python",
   "pygments_lexer": "ipython3",
   "version": "3.12.7"
  }
 },
 "nbformat": 4,
 "nbformat_minor": 5
}
